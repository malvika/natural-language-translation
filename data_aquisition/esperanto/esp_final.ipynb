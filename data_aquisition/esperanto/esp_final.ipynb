{
 "cells": [
  {
   "cell_type": "code",
   "execution_count": 1,
   "metadata": {},
   "outputs": [
    {
     "name": "stdout",
     "output_type": "stream",
     "text": [
      "total number of lines in esperanto dataset = 670\n",
      "total number of unique words in esperanto dataset = 3618\n",
      "total number of words in esperanto dataset = 8812\n",
      "total number of lines in english dataset = 670\n",
      "total number of unique words in english dataset = 3304\n",
      "total number of words in english dataset = 9921\n"
     ]
    }
   ],
   "source": [
    "# Total numbers in esperanto dataset \n",
    "with open('esperanto_data/esp_phrases_new.txt', 'r') as file:\n",
    "    count_lines = 0\n",
    "    unique_words = []\n",
    "    count_words = 0\n",
    "    for line in file:\n",
    "        count_lines += 1\n",
    "        for word in line.split():\n",
    "            count_words += 1\n",
    "            if word not in unique_words:\n",
    "                unique_words.append(word)\n",
    "  \n",
    "    print(f'total number of lines in esperanto dataset = {count_lines}')\n",
    "    print(f'total number of unique words in esperanto dataset = {len(unique_words)}')\n",
    "    print(f'total number of words in esperanto dataset = {count_words}')\n",
    "\n",
    "# Total numbers in english dataset \n",
    "with open('esperanto_data/eng_phrases_new.txt', 'r') as file:\n",
    "    count_lines = 0\n",
    "    unique_words = []\n",
    "    count_words = 0\n",
    "    for line in file:\n",
    "        count_lines += 1\n",
    "        for word in line.split():\n",
    "            count_words += 1\n",
    "            if word not in unique_words:\n",
    "                unique_words.append(word)\n",
    "    \n",
    "    print(f'total number of lines in english dataset = {count_lines}')\n",
    "    print(f'total number of unique words in english dataset = {len(unique_words)}')\n",
    "    print(f'total number of words in english dataset = {count_words}')"
   ]
  },
  {
   "cell_type": "code",
   "execution_count": 2,
   "metadata": {},
   "outputs": [
    {
     "name": "stdout",
     "output_type": "stream",
     "text": [
      "total number of lines in esperanto dictionary = 90441\n",
      "total number of unique words in esperanto dictionary = 56975\n",
      "total number of words in esperanto dictionary = 103705\n",
      "total number of lines in english dictionary = 90441\n",
      "total number of unique words in english dictionary = 35408\n",
      "total number of words in english dictionary = 132767\n"
     ]
    }
   ],
   "source": [
    "# Total numbers esperanto dataset \n",
    "with open('esperanto_data/esperanto_dict.txt', 'r') as file:\n",
    "    count_lines = 0\n",
    "    unique_words = []\n",
    "    count_words = 0\n",
    "    for line in file:\n",
    "        count_lines += 1\n",
    "        for word in line.split():\n",
    "            count_words += 1\n",
    "            if word not in unique_words:\n",
    "                unique_words.append(word)\n",
    "    \n",
    "    print(f'total number of lines in esperanto dictionary = {count_lines}')\n",
    "    print(f'total number of unique words in esperanto dictionary = {len(unique_words)}')\n",
    "    print(f'total number of words in esperanto dictionary = {count_words}')\n",
    "\n",
    "# Total number of lines in english dataset \n",
    "with open('esperanto_data/english_dict.txt', 'r') as file:\n",
    "    count_lines = 0\n",
    "    unique_words = []\n",
    "    count_words = 0\n",
    "    for line in file:\n",
    "\n",
    "        count_lines += 1\n",
    "        for word in line.split():\n",
    "            count_words += 1\n",
    "            if word not in unique_words:\n",
    "                unique_words.append(word)\n",
    "    \n",
    "    print(f'total number of lines in english dictionary = {count_lines}')\n",
    "    print(f'total number of unique words in english dictionary = {len(unique_words)}')\n",
    "    print(f'total number of words in english dictionary = {count_words}')"
   ]
  },
  {
   "cell_type": "code",
   "execution_count": 3,
   "metadata": {},
   "outputs": [],
   "source": [
    "with open('esperanto_data/eng_phrases_new.txt', 'r') as engl, open('esperanto_data/esp_phrases_new.txt', 'r') as esp,\\\n",
    "open('esperanto_data/phrases.txt', 'w') as both:\n",
    "    for eline, sline in zip(engl, esp):\n",
    "            eline = eline.rstrip()\n",
    "            sline = sline.rstrip()\n",
    "            \n",
    "            both.write(f'{eline}\\t{sline}\\n')"
   ]
  },
  {
   "cell_type": "code",
   "execution_count": 4,
   "metadata": {},
   "outputs": [],
   "source": [
    "with open('esperanto_data/english_dict.txt', 'r') as engl, open('esperanto_data/esperanto_dict.txt', 'r') as esp,\\\n",
    "open('esperanto_data/dictionary.txt', 'w') as both:\n",
    "    for eline, sline in zip(engl, esp):\n",
    "            eline = eline.rstrip()\n",
    "            sline = sline.rstrip()\n",
    "            \n",
    "            both.write(f'{eline}\\t{sline}\\n')"
   ]
  }
 ],
 "metadata": {
  "kernelspec": {
   "display_name": "Python 3",
   "language": "python",
   "name": "python3"
  },
  "language_info": {
   "codemirror_mode": {
    "name": "ipython",
    "version": 3
   },
   "file_extension": ".py",
   "mimetype": "text/x-python",
   "name": "python",
   "nbconvert_exporter": "python",
   "pygments_lexer": "ipython3",
   "version": "3.6.4"
  }
 },
 "nbformat": 4,
 "nbformat_minor": 2
}
