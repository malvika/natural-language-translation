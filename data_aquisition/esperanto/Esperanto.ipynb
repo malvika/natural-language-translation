{
 "cells": [
  {
   "cell_type": "code",
   "execution_count": 32,
   "metadata": {},
   "outputs": [],
   "source": [
    "import requests\n",
    "import pymongo\n",
    "import requests\n",
    "from selenium import webdriver\n",
    "import pandas as pd\n",
    "import time\n",
    "import urllib.request\n",
    "import re"
   ]
  },
  {
   "cell_type": "markdown",
   "metadata": {},
   "source": [
    "### Get text data"
   ]
  },
  {
   "cell_type": "code",
   "execution_count": 140,
   "metadata": {},
   "outputs": [],
   "source": [
    "#Get text data\n",
    "browser = webdriver.Chrome('/usr/local/bin/chromedriver')\n",
    "# browser.implicitly_wait(10)"
   ]
  },
  {
   "cell_type": "code",
   "execution_count": 37,
   "metadata": {},
   "outputs": [],
   "source": [
    "url = 'http://www.esperanto.ie/en/bilingual_texts/bilingual_'"
   ]
  },
  {
   "cell_type": "code",
   "execution_count": 135,
   "metadata": {},
   "outputs": [],
   "source": [
    "esp = ''\n",
    "engl = ''"
   ]
  },
  {
   "cell_type": "code",
   "execution_count": 136,
   "metadata": {},
   "outputs": [
    {
     "name": "stdout",
     "output_type": "stream",
     "text": [
      "page number 6\n",
      "esperanto length - 7\n",
      "english length - 5\n",
      "------------------------------------------------------------\n",
      "page number 7\n",
      "esperanto length - 5\n",
      "english length - 4\n",
      "------------------------------------------------------------\n",
      "page number 15\n",
      "esperanto length - 5\n",
      "english length - 4\n",
      "------------------------------------------------------------\n",
      "page number 18\n",
      "esperanto length - 6\n",
      "english length - 7\n",
      "------------------------------------------------------------\n",
      "page number 20\n",
      "esperanto length - 6\n",
      "english length - 9\n",
      "------------------------------------------------------------\n",
      "page number 21\n",
      "esperanto length - 7\n",
      "english length - 8\n",
      "------------------------------------------------------------\n",
      "page number 23\n",
      "esperanto length - 7\n",
      "english length - 6\n",
      "------------------------------------------------------------\n",
      "page number 24\n",
      "esperanto length - 6\n",
      "english length - 7\n",
      "------------------------------------------------------------\n",
      "page number 26\n",
      "esperanto length - 7\n",
      "english length - 8\n",
      "------------------------------------------------------------\n",
      "page number 28\n",
      "esperanto length - 7\n",
      "english length - 6\n",
      "------------------------------------------------------------\n",
      "page number 29\n",
      "esperanto length - 8\n",
      "english length - 6\n",
      "------------------------------------------------------------\n",
      "page number 32\n",
      "esperanto length - 6\n",
      "english length - 5\n",
      "------------------------------------------------------------\n",
      "page number 33\n",
      "esperanto length - 7\n",
      "english length - 6\n",
      "------------------------------------------------------------\n",
      "page number 34\n",
      "esperanto length - 7\n",
      "english length - 6\n",
      "------------------------------------------------------------\n",
      "page number 35\n",
      "esperanto length - 7\n",
      "english length - 6\n",
      "------------------------------------------------------------\n",
      "page number 36\n",
      "esperanto length - 7\n",
      "english length - 6\n",
      "------------------------------------------------------------\n",
      "page number 37\n",
      "esperanto length - 7\n",
      "english length - 5\n",
      "------------------------------------------------------------\n",
      "page number 38\n",
      "esperanto length - 5\n",
      "english length - 4\n",
      "------------------------------------------------------------\n",
      "page number 39\n",
      "esperanto length - 9\n",
      "english length - 6\n",
      "------------------------------------------------------------\n",
      "page number 47\n",
      "esperanto length - 7\n",
      "english length - 8\n",
      "------------------------------------------------------------\n",
      "page number 51\n",
      "esperanto length - 8\n",
      "english length - 6\n",
      "------------------------------------------------------------\n",
      "page number 56\n",
      "esperanto length - 7\n",
      "english length - 5\n",
      "------------------------------------------------------------\n",
      "page number 57\n",
      "esperanto length - 5\n",
      "english length - 4\n",
      "------------------------------------------------------------\n",
      "page number 65\n",
      "esperanto length - 5\n",
      "english length - 4\n",
      "------------------------------------------------------------\n",
      "page number 68\n",
      "esperanto length - 6\n",
      "english length - 7\n",
      "------------------------------------------------------------\n",
      "page number 70\n",
      "esperanto length - 6\n",
      "english length - 9\n",
      "------------------------------------------------------------\n",
      "page number 92\n",
      "esperanto length - 7\n",
      "english length - 6\n",
      "------------------------------------------------------------\n",
      "page number 93\n",
      "esperanto length - 7\n",
      "english length - 5\n",
      "------------------------------------------------------------\n",
      "page number 94\n",
      "esperanto length - 5\n",
      "english length - 4\n",
      "------------------------------------------------------------\n",
      "page number 95\n",
      "esperanto length - 9\n",
      "english length - 7\n",
      "------------------------------------------------------------\n",
      "page number 96\n",
      "esperanto length - 9\n",
      "english length - 7\n",
      "------------------------------------------------------------\n",
      "page number 97\n",
      "esperanto length - 7\n",
      "english length - 6\n",
      "------------------------------------------------------------\n",
      "page number 101\n",
      "esperanto length - 10\n",
      "english length - 9\n",
      "------------------------------------------------------------\n",
      "page number 102\n",
      "esperanto length - 7\n",
      "english length - 5\n",
      "------------------------------------------------------------\n",
      "page number 103\n",
      "esperanto length - 8\n",
      "english length - 9\n",
      "------------------------------------------------------------\n"
     ]
    }
   ],
   "source": [
    "for x in range(1,104):\n",
    "    address = url + str(x) + '.html'\n",
    "    \n",
    "    try:\n",
    "        browser.get(address)\n",
    "        time.sleep(1)\n",
    "        \n",
    "        text1 = browser.find_element_by_id('sidebar1').text\n",
    "        text1 = text1.replace('\\n\\n', '\\n')\n",
    "        text1 = re.sub(r'\\([^)]*\\)', '', text1)\n",
    "        \n",
    "        text2 = browser.find_element_by_id('sidebar2').text\n",
    "        text2 = text2.replace('\\n\\n', '\\n')\n",
    "        text2 = re.sub(r'\\([^)]*\\)', '', text2)\n",
    "        \n",
    "        esp += (text1 + '\\n')\n",
    "        engl += (text2 + '\\n')\n",
    "        \n",
    "        lines1 = text1.split('\\n')\n",
    "        lines2 = text2.split('\\n')\n",
    "        \n",
    "        if (len(lines1) != len(lines2)):\n",
    "        \n",
    "            print(f'page number {x}')\n",
    "            print(f'esperanto length - {len(lines1)}')\n",
    "            print(f'english length - {len(lines2)}')\n",
    "            print(30 * '--')\n",
    "            \n",
    "    except:\n",
    "        continue\n",
    "        "
   ]
  },
  {
   "cell_type": "code",
   "execution_count": 144,
   "metadata": {},
   "outputs": [],
   "source": [
    "titles = []\n",
    "pages = []\n",
    "\n",
    "for x in range(1,104):\n",
    "    address = url + str(x) + '.html'\n",
    "    \n",
    "    try:\n",
    "        browser.get(address)\n",
    "        time.sleep(1)\n",
    "        \n",
    "        if browser.find_element_by_id('sidebar2').find_element_by_css_selector('h2').text:\n",
    "            title = browser.find_element_by_id('sidebar2').find_element_by_css_selector('h2').text\n",
    "            print(title)\n",
    "            \n",
    "        if browser.find_element_by_id('sidebar2').find_element_by_css_selector('h3').text:\n",
    "            title = browser.find_element_by_id('sidebar2').find_element_by_css_selector('h3').text\n",
    "            print(title)\n",
    "            \n",
    "        if browser.find_element_by_id('sidebar2').find_element_by_css_selector('b').text:\n",
    "            title = browser.find_element_by_id('sidebar2').find_element_by_css_selector('b').text\n",
    "            print(title)\n",
    "            \n",
    "        if title not in titles:\n",
    "            titles.append(title)\n",
    "            pages.append(x)\n",
    "            \n",
    "    except:\n",
    "        continue"
   ]
  },
  {
   "cell_type": "code",
   "execution_count": null,
   "metadata": {},
   "outputs": [],
   "source": []
  },
  {
   "cell_type": "code",
   "execution_count": 137,
   "metadata": {},
   "outputs": [],
   "source": [
    "esp_low = ''\n",
    "for word in esp.split(' '):\n",
    "    esp_low += ' ' + word.lower()\n"
   ]
  },
  {
   "cell_type": "code",
   "execution_count": 138,
   "metadata": {},
   "outputs": [],
   "source": [
    "engl_low = ''\n",
    "for word in engl.split(' '):\n",
    "    engl_low += ' ' + word.lower()\n"
   ]
  },
  {
   "cell_type": "code",
   "execution_count": null,
   "metadata": {},
   "outputs": [],
   "source": [
    "textfile = open('esperanto_data/esperanto.txt', 'w')\n",
    "textfile.write(esp)\n",
    "textfile.close()\n",
    "textfile = open('esperanto_data/english.txt', 'w')\n",
    "textfile.write(engl)\n",
    "textfile.close()"
   ]
  },
  {
   "cell_type": "code",
   "execution_count": 139,
   "metadata": {},
   "outputs": [],
   "source": [
    "textfile = open('esperanto_data/esperanto_low.txt', 'w')\n",
    "textfile.write(esp_low)\n",
    "textfile.close()\n",
    "textfile = open('esperanto_data/english_low.txt', 'w')\n",
    "textfile.write(engl_low)\n",
    "textfile.close()\n",
    "browser.quit()"
   ]
  },
  {
   "cell_type": "markdown",
   "metadata": {},
   "source": [
    "### Get dictionaries"
   ]
  },
  {
   "cell_type": "code",
   "execution_count": null,
   "metadata": {},
   "outputs": [],
   "source": [
    "# Get dictionaries\n",
    "eng_dict = ''\n",
    "esp_dict = ''\n",
    "# dictionary = urllib.request.urlopen('http://www.denisowski.org/Esperanto/ESPDIC/espdic.txt')\n",
    "with open('esperanto_data/espdic.txt', 'r') as dictionary:\n",
    "    \n",
    "    \n",
    "    for line in dictionary:\n",
    "\n",
    "#         line = line.decode('UTF-8') necessary when reading from url\n",
    "        if ('2 August 2015' in line):\n",
    "            continue\n",
    "\n",
    "        text = re.sub(r'\\([^)]*\\)', '', line) #remove brackets and their content\n",
    "        words = text.rstrip().split(':') #remove \\n \\r and split\n",
    "\n",
    "        if (len(words[1]) > 1):\n",
    "            for word in words[1].split(','):\n",
    "                esp_dict += (words[0].lower() + '\\n')\n",
    "                eng_dict += (word.lower() + '\\n')\n",
    "        else:\n",
    "            eng_dict += (words[1].lower() + '\\n')\n",
    "            esp_dict += (words[0].lower() + '\\n')"
   ]
  },
  {
   "cell_type": "code",
   "execution_count": null,
   "metadata": {},
   "outputs": [],
   "source": [
    "textfile = open('esperanto_data/esperanto_dict.txt', 'w')\n",
    "textfile.write(esp_dict)\n",
    "textfile.close()\n",
    "textfile = open('esperanto_data/english_dict.txt', 'w')\n",
    "textfile.write(eng_dict)\n",
    "textfile.close()"
   ]
  },
  {
   "cell_type": "markdown",
   "metadata": {},
   "source": [
    "### Study obtained data"
   ]
  },
  {
   "cell_type": "code",
   "execution_count": 1,
   "metadata": {},
   "outputs": [
    {
     "name": "stdout",
     "output_type": "stream",
     "text": [
      "total number of lines in esperanto dataset = 285\n",
      "total number of unique words in esperanto dataset = 2922\n",
      "total number of words in esperanto dataset = 7269\n"
     ]
    }
   ],
   "source": [
    "#esperanto text information\n",
    "with open('esperanto_data/esperanto_low.txt', 'r') as file:\n",
    "    count_lines = 0\n",
    "    unique_words = []\n",
    "    count_words = 0\n",
    "    for line in file:\n",
    "        count_lines += 1\n",
    "        for word in line.split():\n",
    "            count_words += 1\n",
    "            if word not in unique_words:\n",
    "                unique_words.append(word)\n",
    "    \n",
    "    print(f'total number of lines in esperanto dataset = {count_lines}')\n",
    "    print(f'total number of unique words in esperanto dataset = {len(unique_words)}')\n",
    "    print(f'total number of words in esperanto dataset = {count_words}')"
   ]
  },
  {
   "cell_type": "code",
   "execution_count": 2,
   "metadata": {},
   "outputs": [
    {
     "name": "stdout",
     "output_type": "stream",
     "text": [
      "total number of lines in english dataset = 285\n",
      "total number of unique words in english dataset = 2677\n",
      "total number of words in english dataset = 8161\n"
     ]
    }
   ],
   "source": [
    "#english text information\n",
    "with open('esperanto_data/english_low.txt', 'r') as file:\n",
    "    count_lines = 0\n",
    "    unique_words = []\n",
    "    count_words = 0\n",
    "    for line in file:\n",
    "        count_lines += 1\n",
    "        for word in line.split():\n",
    "            count_words += 1\n",
    "            if word not in unique_words:\n",
    "                unique_words.append(word)\n",
    "    print(f'total number of lines in english dataset = {count_lines}')\n",
    "    print(f'total number of unique words in english dataset = {len(unique_words)}')\n",
    "    print(f'total number of words in english dataset = {count_words}')"
   ]
  },
  {
   "cell_type": "code",
   "execution_count": 3,
   "metadata": {},
   "outputs": [
    {
     "name": "stdout",
     "output_type": "stream",
     "text": [
      "total number of lines in english dictionary = 90441\n"
     ]
    }
   ],
   "source": [
    "with open('esperanto_data/english_dict.txt', 'r') as file:\n",
    "    count = 0\n",
    "    for line in file:\n",
    "        count += 1\n",
    "    print(f'total number of lines in english dictionary = {count}')"
   ]
  },
  {
   "cell_type": "code",
   "execution_count": 4,
   "metadata": {},
   "outputs": [
    {
     "name": "stdout",
     "output_type": "stream",
     "text": [
      "total number of lines in esperanto dictionary = 90441\n"
     ]
    }
   ],
   "source": [
    "with open('esperanto_data/english_dict.txt', 'r') as file:\n",
    "    count = 0\n",
    "    for line in file:\n",
    "        count += 1\n",
    "    print(f'total number of lines in esperanto dictionary = {count}')"
   ]
  },
  {
   "cell_type": "markdown",
   "metadata": {},
   "source": [
    "### Grab phrases"
   ]
  },
  {
   "cell_type": "code",
   "execution_count": 3,
   "metadata": {},
   "outputs": [],
   "source": [
    "url2 = 'http://www.esperanto-chicago.org/esprimoj/'\n",
    "engl = ''\n",
    "esp = ''\n",
    "links = ['Expressions', 'Numbers-Colors', 'Needs', 'Conference', 'Communications', 'Emergencies']"
   ]
  },
  {
   "cell_type": "code",
   "execution_count": 7,
   "metadata": {},
   "outputs": [],
   "source": [
    "for link in links:\n",
    "    new_url = url2 + link + '.htm'\n",
    "    tables = pd.read_html(new_url)\n",
    "    df = tables[0]\n",
    "    df.columns = ['english', 'esperanto']\n",
    "    for ind, row in df.iterrows():\n",
    "        engl += (str(row.english) + '\\n')\n",
    "        esp += (str(row.esperanto) + '\\n')"
   ]
  },
  {
   "cell_type": "code",
   "execution_count": 8,
   "metadata": {},
   "outputs": [],
   "source": [
    "textfile = open('esperanto_data/esp_phrases.txt', 'w')\n",
    "textfile.write(esp)\n",
    "textfile.close()\n",
    "textfile = open('esperanto_data/eng_phrases.txt', 'w')\n",
    "textfile.write(engl)\n",
    "textfile.close()"
   ]
  },
  {
   "cell_type": "code",
   "execution_count": 35,
   "metadata": {},
   "outputs": [],
   "source": [
    "with open('esperanto_data/eng_phrases.txt', 'r') as oldfile, open('esperanto_data/eng_phrases_new.txt', 'w') as newfile:\n",
    "    for line in oldfile:\n",
    "        if line != 'nan\\n':\n",
    "            newfile.write(line.lower())\n",
    "\n",
    "with open('esperanto_data/esp_phrases.txt', 'r') as oldfile, open('esperanto_data/esp_phrases_new.txt', 'w') as newfile:\n",
    "    \n",
    "    for line in oldfile:\n",
    "        if line != 'nan\\n':\n",
    "            newfile.write(line.lower())\n",
    "        "
   ]
  },
  {
   "cell_type": "code",
   "execution_count": 37,
   "metadata": {},
   "outputs": [
    {
     "name": "stdout",
     "output_type": "stream",
     "text": [
      "total number of lines in esperanto dataset = 670\n",
      "total number of unique words in esperanto dataset = 3618\n",
      "total number of words in esperanto dataset = 8812\n",
      "total number of lines in esperanto dataset = 670\n",
      "total number of unique words in esperanto dataset = 3304\n",
      "total number of words in esperanto dataset = 9921\n"
     ]
    }
   ],
   "source": [
    "with open('esperanto_data/esp_phrases_new.txt', 'r') as file:\n",
    "    count_lines = 0\n",
    "    unique_words = []\n",
    "    count_words = 0\n",
    "    for line in file:\n",
    "        line = line.replace('\\n\\n', '\\n')\n",
    "        count_lines += 1\n",
    "        for word in line.split():\n",
    "            count_words += 1\n",
    "            if word not in unique_words:\n",
    "                unique_words.append(word)\n",
    "    \n",
    "    print(f'total number of lines in esperanto dataset = {count_lines}')\n",
    "    print(f'total number of unique words in esperanto dataset = {len(unique_words)}')\n",
    "    print(f'total number of words in esperanto dataset = {count_words}')\n",
    "\n",
    "with open('esperanto_data/eng_phrases_new.txt', 'r') as file:\n",
    "    count_lines = 0\n",
    "    unique_words = []\n",
    "    count_words = 0\n",
    "    for line in file:\n",
    "        line = line.replace('\\n\\n', '\\n')\n",
    "        count_lines += 1\n",
    "        for word in line.split():\n",
    "            count_words += 1\n",
    "            if word not in unique_words:\n",
    "                unique_words.append(word)\n",
    "    \n",
    "    print(f'total number of lines in esperanto dataset = {count_lines}')\n",
    "    print(f'total number of unique words in esperanto dataset = {len(unique_words)}')\n",
    "    print(f'total number of words in esperanto dataset = {count_words}')"
   ]
  },
  {
   "cell_type": "code",
   "execution_count": null,
   "metadata": {},
   "outputs": [],
   "source": [
    "#joining together\n",
    "with open('esperanto_data/english_low.txt') as engl, open('esperanto_data/esperanto_low.txt') as esp:\n",
    "    for en, es in zip(engl, esp):"
   ]
  }
 ],
 "metadata": {
  "kernelspec": {
   "display_name": "Python 3",
   "language": "python",
   "name": "python3"
  },
  "language_info": {
   "codemirror_mode": {
    "name": "ipython",
    "version": 3
   },
   "file_extension": ".py",
   "mimetype": "text/x-python",
   "name": "python",
   "nbconvert_exporter": "python",
   "pygments_lexer": "ipython3",
   "version": "3.6.4"
  }
 },
 "nbformat": 4,
 "nbformat_minor": 2
}
